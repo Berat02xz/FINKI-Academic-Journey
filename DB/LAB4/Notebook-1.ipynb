{
    "metadata": {
        "kernelspec": {
            "name": "SQL",
            "display_name": "SQL",
            "language": "sql"
        },
        "language_info": {
            "name": "sql",
            "version": ""
        }
    },
    "nbformat_minor": 2,
    "nbformat": 4,
    "cells": [
        {
            "cell_type": "markdown",
            "source": [
                "**Create Tables For The DB Oriflame**"
            ],
            "metadata": {
                "azdata_cell_guid": "bdb3c504-7578-443d-9f27-05a550fba767"
            },
            "attachments": {}
        },
        {
            "cell_type": "code",
            "source": [
                "CREATE TABLE Categories (\r\n",
                "    CategoryID INTEGER PRIMARY KEY,\r\n",
                "    CateogoryName VARCHAR(255) \r\n",
                ")\r\n",
                "\r\n",
                "GO\r\n",
                "\r\n",
                "CREATE TABLE PostalCode(\r\n",
                "    PostalCodeID INTEGER PRIMARY KEY,\r\n",
                "    ConsultantCity VARCHAR(255),\r\n",
                "    ConsultantCountry VARCHAR(255)\r\n",
                ")\r\n",
                "\r\n",
                "GO\r\n",
                "\r\n",
                "CREATE TABLE Suppliers(\r\n",
                "    SuppplierID INTEGER PRIMARY KEY,\r\n",
                "    SupplierName VARCHAR(255),\r\n",
                "    SupplierAdress VARCHAR(255),\r\n",
                "    SupplierCity VARCHAR(255),\r\n",
                "    SupllierPostalCode INTEGER,\r\n",
                "    SupplierCountry VARCHAR(255),\r\n",
                "    ContantName VARCHAR(255),\r\n",
                "\r\n",
                "    FOREIGN KEY (SupllierPostalCode) REFERENCES PostalCode(PostalCodeID)\r\n",
                "    \r\n",
                ")\r\n",
                "\r\n",
                "GO\r\n",
                "\r\n",
                "CREATE TABLE Consultants(\r\n",
                "    ConsultantID INTEGER PRIMARY KEY,\r\n",
                "    ConsultantName VARCHAR(255),\r\n",
                "    ConsultantAdress VARCHAR(255),\r\n",
                "    ConsultantPhone VARCHAR(255),\r\n",
                "    ConsultantPostalCode INTEGER,\r\n",
                "\r\n",
                "    FOREIGN KEY (ConsultantPostalCode) REFERENCES PostalCode(PostalCodeID)\r\n",
                ")\r\n",
                "\r\n",
                "GO\r\n",
                "\r\n",
                "CREATE TABLE Products(\r\n",
                "    ProductID INTEGER PRIMARY KEY,\r\n",
                "    ProductName VARCHAR(255),\r\n",
                "    ProductPrice INTEGER,\r\n",
                "    ProductPoints INTEGER,\r\n",
                "    QuantityPerProduct INTEGER,\r\n",
                "    SupplierID INTEGER,\r\n",
                "    CategoryID INTEGER,\r\n",
                "\r\n",
                "    FOREIGN KEY (SupplierID) REFERENCES Suppliers(SuppplierID),\r\n",
                "    FOREIGN KEY (CategoryID) REFERENCES Categories(CategoryID)   \r\n",
                ")\r\n",
                "\r\n",
                "GO\r\n",
                "\r\n",
                "CREATE TABLE Orders(\r\n",
                "    OrderID INTEGER PRIMARY KEY,\r\n",
                "    OrderDate DATE,\r\n",
                "    ShipDate DATE,\r\n",
                "    ConsultantID INTEGER,\r\n",
                "\r\n",
                "    FOREIGN KEY (ConsultantID) REFERENCES Consultants(ConsultantID)\r\n",
                ")\r\n",
                "\r\n",
                "GO\r\n",
                "\r\n",
                "CREATE TABLE Products(\r\n",
                "    ProductID INTEGER PRIMARY KEY,\r\n",
                "    ProductName VARCHAR(255),\r\n",
                "    ProductPrice INTEGER,\r\n",
                "    ProductPoints INTEGER,\r\n",
                "    QuantityPerProduct INTEGER,\r\n",
                "    SupplierID INTEGER,\r\n",
                "    CategoryID INTEGER,\r\n",
                "\r\n",
                "    FOREIGN KEY (SupplierID) REFERENCES Suppliers(SupplierID),\r\n",
                "    FOREIGN KEY (CategoryID) REFERENCES Categories(CategoryID)   \r\n",
                ")\r\n",
                "GO\r\n",
                "\r\n",
                "CREATE TABLE OrderDetails(\r\n",
                "    ProductID INTEGER,\r\n",
                "    OrderID INTEGER,\r\n",
                "    Quantity INTEGER,\r\n",
                "\r\n",
                "    FOREIGN KEY (ProductID) REFERENCES Products(ProductID),\r\n",
                "    FOREIGN KEY (OrderID) REFERENCES Orders(OrderID)\r\n",
                ")\r\n",
                "\r\n",
                "\r\n",
                ""
            ],
            "metadata": {
                "azdata_cell_guid": "311fb8b8-1837-4446-8841-dd619edc6770",
                "language": "sql"
            },
            "outputs": [],
            "execution_count": null
        },
        {
            "cell_type": "markdown",
            "source": [
                "- **SQL QUERIES:**"
            ],
            "metadata": {
                "azdata_cell_guid": "8e8a1336-6a5d-4a82-a9e0-008be51bc514"
            },
            "attachments": {}
        },
        {
            "cell_type": "code",
            "source": [
                "---1. Show the consultants with names starting with the character “P”.\r\n",
                "SELECT * FROM Consultants\r\n",
                "WHERE ConsultantName LIKE 'P%';"
            ],
            "metadata": {
                "azdata_cell_guid": "8a08f7e8-4975-43ee-9824-3c29ef44a0a4",
                "language": "sql"
            },
            "outputs": [],
            "execution_count": null
        },
        {
            "cell_type": "code",
            "source": [
                "---2. Show the consultants that have a last name ending in “ska” and a first name starting with “M”.\r\n",
                "SELECT *\r\n",
                "FROM Consultants\r\n",
                "WHERE \r\n",
                "  SUBSTRING(ConsultantName, 1, CHARINDEX(' ', ConsultantName) - 1) LIKE '%ska' -- First Name starts with \"M\"\r\n",
                "  AND SUBSTRING(ConsultantName, CHARINDEX(' ', ConsultantName) + 1, LEN(ConsultantName)) LIKE 'M%'; -- Last Name ends with \"ska\"\r\n",
                ""
            ],
            "metadata": {
                "azdata_cell_guid": "b88dffa0-ba85-4f48-a937-94ba2ccb0b99",
                "language": "sql"
            },
            "outputs": [],
            "execution_count": null
        },
        {
            "cell_type": "code",
            "source": [
                "--3. Show the consultants whose first name has exactly 5 characters. You can use the LIKE operator \r\n",
                "--or the LEN function.\r\n",
                "\r\n",
                "SELECT * FROM Consultants \r\n",
                "WHERE LEN(SUBSTRING(ConsultantName, CHARINDEX(' ', ConsultantName) + 1, LEN(ConsultantName))) = 5"
            ],
            "metadata": {
                "azdata_cell_guid": "b94295ab-4b21-4d55-9405-6d98dcba04a8",
                "language": "sql"
            },
            "outputs": [],
            "execution_count": null
        },
        {
            "cell_type": "code",
            "source": [
                "---4. Show the consultants whose first name has at least 5 characters.\r\n",
                "--- Language: sql\r\n",
                "\r\n",
                "SELECT * FROM consultants WHERE \r\n",
                "LEN(SUBSTRING(ConsultantName, CHARINDEX(' ',ConsultantName)+1 , LEN(ConsultantName))) >= 5"
            ],
            "metadata": {
                "azdata_cell_guid": "2341e4cc-1978-4a34-a8b2-73efcbbfbc22",
                "language": "sql"
            },
            "outputs": [],
            "execution_count": null
        },
        {
            "cell_type": "code",
            "source": [
                "---5. Show the products that have a name consisting of at least 2 words\r\n",
                "\r\n",
                "SELECT * FROM products WHERE ProductName LIKE '% %';"
            ],
            "metadata": {
                "azdata_cell_guid": "704c3f64-6339-4d8c-876f-62a0f9ddfe72",
                "language": "sql"
            },
            "outputs": [],
            "execution_count": null
        },
        {
            "cell_type": "code",
            "source": [
                "--6. Show the products that have a name consisting of exactly 2 words.\r\n",
                "\r\n",
                "SELECT *\r\n",
                "FROM Products\r\n",
                "WHERE \r\n",
                "  LEN(ProductName) - LEN(REPLACE(ProductName, ' ', '')) = 1;\r\n",
                ""
            ],
            "metadata": {
                "azdata_cell_guid": "4173af6b-6f65-4ceb-8d76-7bf4c81f634d",
                "language": "sql"
            },
            "outputs": [],
            "execution_count": null
        },
        {
            "cell_type": "code",
            "source": [
                "--7. Show the products that contain the letter “D” in lowercase or uppercase.\r\n",
                "\r\n",
                "SELECT *\r\n",
                "FROM Products\r\n",
                "WHERE\r\n",
                "    ProductName LIKE '%d%' OR\r\n",
                "    ProductName LIKE '%D%';\r\n",
                ""
            ],
            "metadata": {
                "azdata_cell_guid": "04bc1681-fd52-4a43-884a-d9127fb72048",
                "language": "sql"
            },
            "outputs": [],
            "execution_count": null
        },
        {
            "cell_type": "code",
            "source": [
                "--8. Show the names of the products that were never ordered.\r\n",
                "SELECT ProductID FROM Products WHERE\r\n",
                "ProductID NOT IN (SELECT ProductID FROM OrderDetails)"
            ],
            "metadata": {
                "azdata_cell_guid": "f685b348-3fce-4b80-8fe1-7e2747ebdddc",
                "language": "sql"
            },
            "outputs": [],
            "execution_count": null
        },
        {
            "cell_type": "code",
            "source": [
                "--9. Show the ID and the sum of the amount for each order.\r\n",
                "\r\n",
                "SELECT ProductID,SUM(ProductPrice) FROM Products WHERE ProductID IN (SELECT ProductID FROM OrderDetails GROUP BY ProductID) GROUP BY ProductID;"
            ],
            "metadata": {
                "azdata_cell_guid": "1a561ae3-4bfc-461f-b67e-8451ed84f036",
                "language": "sql"
            },
            "outputs": [],
            "execution_count": null
        },
        {
            "cell_type": "code",
            "source": [
                "--10. Show the ID of each product and the number of orders in which it is included\r\n",
                "\r\n",
                "SELECT p.ProductID, p.ProductName, COUNT(o.OrderID) AS order_count\r\n",
                "FROM Products p\r\n",
                "LEFT JOIN OrderDetails o ON p.ProductID = o.ProductID\r\n",
                "GROUP BY p.ProductID, p.ProductName;\r\n",
                ""
            ],
            "metadata": {
                "azdata_cell_guid": "931b2e0a-37e8-402e-bb90-40377c6a0ed7",
                "language": "sql"
            },
            "outputs": [],
            "execution_count": null
        },
        {
            "cell_type": "code",
            "source": [
                "--11. Show all product details for products that were ordered at least twice (i.e., that appear in\r\n",
                "--2 different orders).\r\n",
                "\r\n",
                "SELECT * FROM Products WHERE\r\n",
                "ProductID IN (SELECT ProductID FROM OrderDetails GROUP BY ProductID HAVING COUNT(*) >= 2);"
            ],
            "metadata": {
                "azdata_cell_guid": "7ceceeb1-5da2-4a8e-aaf0-c96b3f43e136",
                "language": "sql"
            },
            "outputs": [],
            "execution_count": null
        },
        {
            "cell_type": "code",
            "source": [
                "--12. Show the total profit of each consultant separately\r\n",
                "\r\n",
                "SELECT c.ConsultantName, SUM(od.Quantity * p.ProductPrice) AS TotalProfit FROM Consultants c \r\n",
                "JOIN Orders o ON c.ConsultantID = o.ConsultantID\r\n",
                "JOIN OrderDetails od ON o.OrderID = od.OrderID\r\n",
                "JOIN Products p ON od.ProductID = p.ProductID\r\n",
                "GROUP BY c.ConsultantName;\r\n",
                ""
            ],
            "metadata": {
                "azdata_cell_guid": "0798215a-9a3f-441c-ae60-a8693ab448af",
                "language": "sql"
            },
            "outputs": [],
            "execution_count": null
        }
    ]
}